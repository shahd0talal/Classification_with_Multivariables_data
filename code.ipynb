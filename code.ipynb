{
 "cells": [
  {
   "cell_type": "code",
   "execution_count": 1,
   "id": "508dbd43-63bd-459b-ae6d-916e7dbc3342",
   "metadata": {},
   "outputs": [],
   "source": [
    "import numpy as np\n",
    "from scipy.io import loadmat\n",
    "from scipy.optimize import minimize"
   ]
  },
  {
   "cell_type": "code",
   "execution_count": 2,
   "id": "a7d93c83-4b5d-44ce-877a-f36d56dd5325",
   "metadata": {},
   "outputs": [],
   "source": [
    "data=loadmat(r\"C:\\Users\\Shahed\\OneDrive - Hashemite University\\Classification_with_Multivariables_data-1\\Classification with Multivariables data.mat\")"
   ]
  },
  {
   "cell_type": "code",
   "execution_count": 3,
   "id": "00b1ffe9-2f98-45e5-8ad1-4ba9204a36b8",
   "metadata": {},
   "outputs": [
    {
     "data": {
      "text/plain": [
       "{'__header__': b'MATLAB 5.0 MAT-file, Platform: GLNXA64, Created on: Sun Oct 16 13:09:09 2011',\n",
       " '__version__': '1.0',\n",
       " '__globals__': [],\n",
       " 'X': array([[0., 0., 0., ..., 0., 0., 0.],\n",
       "        [0., 0., 0., ..., 0., 0., 0.],\n",
       "        [0., 0., 0., ..., 0., 0., 0.],\n",
       "        ...,\n",
       "        [0., 0., 0., ..., 0., 0., 0.],\n",
       "        [0., 0., 0., ..., 0., 0., 0.],\n",
       "        [0., 0., 0., ..., 0., 0., 0.]]),\n",
       " 'y': array([[10],\n",
       "        [10],\n",
       "        [10],\n",
       "        ...,\n",
       "        [ 9],\n",
       "        [ 9],\n",
       "        [ 9]], dtype=uint8)}"
      ]
     },
     "execution_count": 3,
     "metadata": {},
     "output_type": "execute_result"
    }
   ],
   "source": [
    "data"
   ]
  },
  {
   "cell_type": "code",
   "execution_count": 4,
   "id": "287cad97-70cc-4040-9c6f-a58f3dbefeb7",
   "metadata": {},
   "outputs": [
    {
     "data": {
      "text/plain": [
       "array([[0., 0., 0., ..., 0., 0., 0.],\n",
       "       [0., 0., 0., ..., 0., 0., 0.],\n",
       "       [0., 0., 0., ..., 0., 0., 0.],\n",
       "       ...,\n",
       "       [0., 0., 0., ..., 0., 0., 0.],\n",
       "       [0., 0., 0., ..., 0., 0., 0.],\n",
       "       [0., 0., 0., ..., 0., 0., 0.]])"
      ]
     },
     "execution_count": 4,
     "metadata": {},
     "output_type": "execute_result"
    }
   ],
   "source": [
    "data['X']"
   ]
  },
  {
   "cell_type": "code",
   "execution_count": 5,
   "id": "fe83bc92-464d-44cd-80d1-46a4e35a69ab",
   "metadata": {},
   "outputs": [
    {
     "data": {
      "text/plain": [
       "(5000, 400)"
      ]
     },
     "execution_count": 5,
     "metadata": {},
     "output_type": "execute_result"
    }
   ],
   "source": [
    "data['X'].shape"
   ]
  },
  {
   "cell_type": "code",
   "execution_count": 6,
   "id": "14b4a20f-09c6-43ab-8a4d-602ea19328b8",
   "metadata": {},
   "outputs": [
    {
     "data": {
      "text/plain": [
       "array([[10],\n",
       "       [10],\n",
       "       [10],\n",
       "       ...,\n",
       "       [ 9],\n",
       "       [ 9],\n",
       "       [ 9]], dtype=uint8)"
      ]
     },
     "execution_count": 6,
     "metadata": {},
     "output_type": "execute_result"
    }
   ],
   "source": [
    "data['y']"
   ]
  },
  {
   "cell_type": "code",
   "execution_count": 7,
   "id": "3169712f-ddd8-4747-a7b6-e07e7f5fe006",
   "metadata": {},
   "outputs": [
    {
     "data": {
      "text/plain": [
       "(5000, 1)"
      ]
     },
     "execution_count": 7,
     "metadata": {},
     "output_type": "execute_result"
    }
   ],
   "source": [
    "data['y'].shape"
   ]
  },
  {
   "cell_type": "code",
   "execution_count": 8,
   "id": "01b0d266-b5e3-416d-a958-e13417762da6",
   "metadata": {},
   "outputs": [],
   "source": [
    "rows=data['X'].shape[0]\n",
    "parameters=data['X'].shape[1]"
   ]
  },
  {
   "cell_type": "code",
   "execution_count": 9,
   "id": "deecef9c-f3cd-4c47-806a-46b8d119dafd",
   "metadata": {},
   "outputs": [
    {
     "data": {
      "text/plain": [
       "(10, 401)"
      ]
     },
     "execution_count": 9,
     "metadata": {},
     "output_type": "execute_result"
    }
   ],
   "source": [
    "all_theta=np.zeros((10,parameters+1))\n",
    "all_theta.shape"
   ]
  },
  {
   "cell_type": "code",
   "execution_count": 10,
   "id": "56255692-7075-4447-a9e2-3f673087de40",
   "metadata": {},
   "outputs": [
    {
     "data": {
      "text/plain": [
       "array([[1., 0., 0., ..., 0., 0., 0.],\n",
       "       [1., 0., 0., ..., 0., 0., 0.],\n",
       "       [1., 0., 0., ..., 0., 0., 0.],\n",
       "       ...,\n",
       "       [1., 0., 0., ..., 0., 0., 0.],\n",
       "       [1., 0., 0., ..., 0., 0., 0.],\n",
       "       [1., 0., 0., ..., 0., 0., 0.]])"
      ]
     },
     "execution_count": 10,
     "metadata": {},
     "output_type": "execute_result"
    }
   ],
   "source": [
    "x=np.insert(data['X'],0,values=np.ones(rows),axis=1)\n",
    "x"
   ]
  },
  {
   "cell_type": "code",
   "execution_count": 11,
   "id": "e328f191-7f11-45d1-8707-dffcb11e5bcd",
   "metadata": {},
   "outputs": [
    {
     "data": {
      "text/plain": [
       "(5000, 401)"
      ]
     },
     "execution_count": 11,
     "metadata": {},
     "output_type": "execute_result"
    }
   ],
   "source": [
    "x.shape"
   ]
  },
  {
   "cell_type": "code",
   "execution_count": 12,
   "id": "d88f5e42-73d3-42fc-9d0f-89aaf5e92a21",
   "metadata": {},
   "outputs": [
    {
     "data": {
      "text/plain": [
       "(401,)"
      ]
     },
     "execution_count": 12,
     "metadata": {},
     "output_type": "execute_result"
    }
   ],
   "source": [
    "theta=np.zeros(parameters+1)\n",
    "theta.shape"
   ]
  },
  {
   "cell_type": "code",
   "execution_count": 13,
   "id": "3d01157e-bc95-48ba-a3f1-b10f17ad8749",
   "metadata": {},
   "outputs": [
    {
     "data": {
      "text/plain": [
       "array([0, 0, 0, ..., 0, 0, 0])"
      ]
     },
     "execution_count": 13,
     "metadata": {},
     "output_type": "execute_result"
    }
   ],
   "source": [
    "y0=np.array([1 if label==0 else 0 for label in data['y']])\n",
    "y0"
   ]
  },
  {
   "cell_type": "code",
   "execution_count": 14,
   "id": "5f2c5713-2301-461c-b138-1d9787857fcb",
   "metadata": {},
   "outputs": [
    {
     "data": {
      "text/plain": [
       "array([[0],\n",
       "       [0],\n",
       "       [0],\n",
       "       ...,\n",
       "       [0],\n",
       "       [0],\n",
       "       [0]])"
      ]
     },
     "execution_count": 14,
     "metadata": {},
     "output_type": "execute_result"
    }
   ],
   "source": [
    "y0=np.reshape(y0,(rows,1))\n",
    "y0"
   ]
  },
  {
   "cell_type": "code",
   "execution_count": 15,
   "id": "707ce1c7-ce63-4994-903b-86996ba9cc3c",
   "metadata": {},
   "outputs": [
    {
     "data": {
      "text/plain": [
       "array([ 1,  2,  3,  4,  5,  6,  7,  8,  9, 10], dtype=uint8)"
      ]
     },
     "execution_count": 15,
     "metadata": {},
     "output_type": "execute_result"
    }
   ],
   "source": [
    "np.unique(data['y'])"
   ]
  },
  {
   "cell_type": "code",
   "execution_count": 16,
   "id": "cdf5376b-139c-48f1-8af2-99e360449701",
   "metadata": {},
   "outputs": [],
   "source": [
    "def sigmoid(z):\n",
    "    return 1 / (1 + np.exp(-z))"
   ]
  },
  {
   "cell_type": "code",
   "execution_count": 17,
   "id": "4c948239-6b2e-44e8-8207-b7fd7b101a46",
   "metadata": {},
   "outputs": [],
   "source": [
    "def cost(theta,x,y,learning_rate):\n",
    "    x=np.matrix(x)\n",
    "    y=np.matrix(y)\n",
    "    theta=np.matrix(theta)\n",
    "    first=np.multiply(-y,np.log(sigmoid(x*theta.T)))\n",
    "    second=np.multiply(1-y,np.log(1-sigmoid(x*theta.T)))\n",
    "    reg=(learning_rate/2*len(x))*np.sum(np.power(theta[:,1:],2))\n",
    "    return np.sum(first-second)/len(x)+reg"
   ]
  },
  {
   "cell_type": "code",
   "execution_count": 18,
   "id": "eb38e3fa-c7e1-4cc0-896b-bb85ad975896",
   "metadata": {},
   "outputs": [],
   "source": [
    "def gradient(theta,x,y,learning_rate):\n",
    "    x=np.matrix(x)\n",
    "    y=np.matrix(y)\n",
    "    theta=np.matrix(theta)\n",
    "    \n",
    "    parameters=int(theta.ravel().shape[1])\n",
    "    grad=np.zeros(parameters)\n",
    "\n",
    "    error=sigmoid(x*theta.T)-y\n",
    "\n",
    "    for i in range(parameters):\n",
    "        term=np.multiply(error,x[:, i])\n",
    "        \n",
    "        if(i==0):\n",
    "            grad[i]=np.sum(term)/len(x)\n",
    "        else:    \n",
    "            grad[i]=(np.sum(term)/len(x))+((learning_rate/len(x))*theta[:,i])\n",
    "\n",
    "    return grad"
   ]
  },
  {
   "cell_type": "code",
   "execution_count": 19,
   "id": "8b03ad77-7f9d-4123-99ca-e6a7eaa8d300",
   "metadata": {},
   "outputs": [],
   "source": [
    "def one_vs_all(X,y,num_labels,learning_rate):\n",
    "    rows=X.shape[0] \n",
    "    parameters=X.shape[1] \n",
    "    all_theta=np.zeros((num_labels,parameters+1))\n",
    "    X=np.insert(X,0,values=np.ones(rows),axis=1)\n",
    "    \n",
    "    print('all_theta shape ',all_theta.shape)\n",
    "    print('X shape ',X.shape)\n",
    "    \n",
    "    for i in range(1,num_labels+1):\n",
    "        theta=np.zeros(parameters+1)\n",
    "        y_i=np.array([1 if label==i else 0 for label in y])\n",
    "        y_i=np.reshape(y_i,(rows,1))\n",
    "        \n",
    "        fmin=minimize(fun=cost,x0=theta,args=(X,y_i,learning_rate),method='TNC',jac=gradient)\n",
    "        all_theta[i-1,:]=fmin.x\n",
    "    \n",
    "    return all_theta"
   ]
  },
  {
   "cell_type": "code",
   "execution_count": 20,
   "id": "2ddf2e95-2cab-4c06-be87-3ee19783a952",
   "metadata": {},
   "outputs": [
    {
     "name": "stdout",
     "output_type": "stream",
     "text": [
      "all_theta shape  (10, 401)\n",
      "X shape  (5000, 401)\n"
     ]
    },
    {
     "name": "stderr",
     "output_type": "stream",
     "text": [
      "C:\\Users\\Shahed\\AppData\\Local\\Temp\\ipykernel_19320\\2924932602.py:17: DeprecationWarning: Conversion of an array with ndim > 0 to a scalar is deprecated, and will error in future. Ensure you extract a single element from your array before performing this operation. (Deprecated NumPy 1.25.)\n",
      "  grad[i]=(np.sum(term)/len(x))+((learning_rate/len(x))*theta[:,i])\n"
     ]
    },
    {
     "data": {
      "text/plain": [
       "array([[-3.70247934e-05,  0.00000000e+00,  0.00000000e+00, ...,\n",
       "        -2.24803606e-10,  2.31962908e-11,  0.00000000e+00],\n",
       "       [-8.96250684e-05,  0.00000000e+00,  0.00000000e+00, ...,\n",
       "         7.26120769e-09, -6.19965249e-10,  0.00000000e+00],\n",
       "       [-8.39553339e-05,  0.00000000e+00,  0.00000000e+00, ...,\n",
       "        -7.61695562e-10,  4.64917627e-11,  0.00000000e+00],\n",
       "       ...,\n",
       "       [-7.00832561e-05,  0.00000000e+00,  0.00000000e+00, ...,\n",
       "        -6.92009170e-10,  4.29241575e-11,  0.00000000e+00],\n",
       "       [-7.65188003e-05,  0.00000000e+00,  0.00000000e+00, ...,\n",
       "        -8.09503381e-10,  5.31058777e-11,  0.00000000e+00],\n",
       "       [-6.63412498e-05,  0.00000000e+00,  0.00000000e+00, ...,\n",
       "        -3.49765933e-09,  1.13668559e-10,  0.00000000e+00]])"
      ]
     },
     "execution_count": 20,
     "metadata": {},
     "output_type": "execute_result"
    }
   ],
   "source": [
    "all_theta=one_vs_all(data['X'],data['y'],10,1)\n",
    "all_theta"
   ]
  },
  {
   "cell_type": "code",
   "execution_count": 21,
   "id": "8c439965-bd33-4fc5-b3ad-0ce66bd09b74",
   "metadata": {},
   "outputs": [],
   "source": [
    "def predict_all(x,all_theta):\n",
    "    rows=x.shape[0]\n",
    "    parameters=x.shape[1]\n",
    "    labels_numbers=all_theta.shape[0]\n",
    "    \n",
    "    x=np.insert(x, 0, values=np.ones(rows), axis=1)\n",
    "    x=np.matrix(x)\n",
    "    all_theta=np.matrix(all_theta)\n",
    "    \n",
    "    h=sigmoid(x*all_theta.T)\n",
    "    h_maxindex=np.argmax(h,axis=1)\n",
    "    h_maxindex=h_maxindex+1\n",
    "    \n",
    "    return h_maxindex"
   ]
  },
  {
   "cell_type": "code",
   "execution_count": 22,
   "id": "b97ee5bb-fa33-439a-8091-d89e82ec54fc",
   "metadata": {},
   "outputs": [
    {
     "data": {
      "text/plain": [
       "matrix([[10],\n",
       "        [10],\n",
       "        [10],\n",
       "        ...,\n",
       "        [ 9],\n",
       "        [ 7],\n",
       "        [10]], dtype=int64)"
      ]
     },
     "execution_count": 22,
     "metadata": {},
     "output_type": "execute_result"
    }
   ],
   "source": [
    "y_predecte=predict_all(data['X'],all_theta)\n",
    "y_predecte"
   ]
  },
  {
   "cell_type": "code",
   "execution_count": 23,
   "id": "3d28d99e-5952-493f-b86b-9c90dbb47497",
   "metadata": {},
   "outputs": [
    {
     "name": "stdout",
     "output_type": "stream",
     "text": [
      "accuracy = 74.6%\n"
     ]
    }
   ],
   "source": [
    "correct=[1 if predecte==y else 0 for (predecte,y) in zip(y_predecte,data['y'])]\n",
    "accuracy=(sum(correct))/float(len(correct))\n",
    "print('accuracy = {0}%'.format(accuracy*100))"
   ]
  }
 ],
 "metadata": {
  "kernelspec": {
   "display_name": "base",
   "language": "python",
   "name": "python3"
  },
  "language_info": {
   "codemirror_mode": {
    "name": "ipython",
    "version": 3
   },
   "file_extension": ".py",
   "mimetype": "text/x-python",
   "name": "python",
   "nbconvert_exporter": "python",
   "pygments_lexer": "ipython3",
   "version": "3.11.5"
  }
 },
 "nbformat": 4,
 "nbformat_minor": 5
}
